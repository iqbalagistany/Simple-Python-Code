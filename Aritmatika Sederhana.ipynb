{
  "nbformat": 4,
  "nbformat_minor": 0,
  "metadata": {
    "colab": {
      "name": "Kuis 2 (Aritmatika Sederhana)",
      "provenance": []
    },
    "kernelspec": {
      "name": "python3",
      "display_name": "Python 3"
    },
    "language_info": {
      "name": "python"
    }
  },
  "cells": [
    {
      "cell_type": "code",
      "execution_count": 1,
      "metadata": {
        "colab": {
          "base_uri": "https://localhost:8080/"
        },
        "id": "KVYZhFqsoOmg",
        "outputId": "374b4e3e-85f7-43a3-d563-a4ae325aab53"
      },
      "outputs": [
        {
          "output_type": "stream",
          "name": "stdout",
          "text": [
            "PROGRAM ARITMATIKA SEDERHANA\n",
            "PROGRAM BILANGAN FIBONACCI \n",
            "\n",
            "Masukkan Banyak Bilangan: 6\n",
            "[0, 1, 1, 2, 3, 5]\n"
          ]
        }
      ],
      "source": [
        "print(\"PROGRAM ARITMATIKA SEDERHANA\")\n",
        "print(\"PROGRAM BILANGAN FIBONACCI \\n\")\n",
        "\n",
        "user = int(input(\"Masukkan Banyak Bilangan: \"))\n",
        "\n",
        "count = 0\n",
        "x = 0\n",
        "y = 1\n",
        "list_hasil = []\n",
        "\n",
        "while count < user:\n",
        "  list_hasil.append(x)\n",
        "  next = x+y\n",
        "  x = y\n",
        "  y = next\n",
        "  count += 1\n",
        "\n",
        "print(list_hasil)"
      ]
    }
  ]
}