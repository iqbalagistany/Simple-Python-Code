{
  "nbformat": 4,
  "nbformat_minor": 0,
  "metadata": {
    "colab": {
      "name": "Kuis 1 (Ganjil Genap)",
      "provenance": []
    },
    "kernelspec": {
      "name": "python3",
      "display_name": "Python 3"
    },
    "language_info": {
      "name": "python"
    }
  },
  "cells": [
    {
      "cell_type": "code",
      "execution_count": 47,
      "metadata": {
        "colab": {
          "base_uri": "https://localhost:8080/"
        },
        "id": "7swkmZ8laSDr",
        "outputId": "ed042fd9-a646-4ed0-fcd1-c00289419f29"
      },
      "outputs": [
        {
          "output_type": "stream",
          "name": "stdout",
          "text": [
            "Masukkan bilangan yang akan dicek: 123\n",
            "Bilangan tersebut adalah Bilangan Ganjil\n"
          ]
        }
      ],
      "source": [
        "a = int(input(\"Masukkan bilangan yang akan dicek: \"))\n",
        "\n",
        "if(a %2 == 0):\n",
        "  print(\"Bilangan tersebut adalah Bilangan Genap\")\n",
        "else:\n",
        "  print(\"Bilangan tersebut adalah Bilangan Ganjil\")"
      ]
    },
    {
      "cell_type": "code",
      "source": [
        ""
      ],
      "metadata": {
        "id": "HkDC0ewMrrVW"
      },
      "execution_count": null,
      "outputs": []
    }
  ]
}