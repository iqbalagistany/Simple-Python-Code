{
 "cells": [
  {
   "cell_type": "markdown",
   "metadata": {},
   "source": [
    "Kuis Pagi"
   ]
  },
  {
   "cell_type": "code",
   "execution_count": 1,
   "metadata": {},
   "outputs": [],
   "source": [
    "class RealSteel:\n",
    "    def __init__(self, name, darah, attack, armor):\n",
    "        self.name = name\n",
    "        self.darah = darah\n",
    "        self.attack = attack\n",
    "        self.armor = armor\n",
    "    \n",
    "    def serang(self, lawan):\n",
    "        print(self.name + ' menyerang ' + lawan.name)\n",
    "        lawan.diserang(self, self.attack)\n",
    "\n",
    "    def diserang(self, lawan, attack_lawan):\n",
    "        print(self.name + ' diserang ' + lawan.name)\n",
    "        attack_diterima = attack_lawan/self.armor\n",
    "\n",
    "        print('serangan terasa: ' + str(attack_diterima))\n",
    "        self.darah -= attack_diterima\n",
    "\n",
    "        print('darah ' + self.name + ' tersisa: ' + str(self.darah))\n",
    "\n",
    "  "
   ]
  },
  {
   "cell_type": "code",
   "execution_count": 3,
   "metadata": {},
   "outputs": [
    {
     "name": "stdout",
     "output_type": "stream",
     "text": [
      "atom menyerang zeus\n",
      "zeus diserang atom\n",
      "serangan terasa: 10.0\n",
      "darah zeus tersisa: 190.0\n"
     ]
    }
   ],
   "source": [
    "atom = RealSteel('atom', 100, 50, 20)\n",
    "zeus = RealSteel('zeus', 200, 100, 5)\n",
    "\n",
    "atom.serang(zeus)"
   ]
  },
  {
   "cell_type": "markdown",
   "metadata": {},
   "source": [
    "TUGAS PAGI\n",
    "(Inheritance)"
   ]
  },
  {
   "cell_type": "code",
   "execution_count": 32,
   "metadata": {},
   "outputs": [],
   "source": [
    "class Robot:\n",
    "    def __init__(self, name, darah, attack, armor):\n",
    "        self.name = name\n",
    "        self.darah = darah\n",
    "        self.attack = attack\n",
    "        self.armor = armor\n",
    "    \n",
    "    def menyerang(self, lawan):\n",
    "        print(self.name + ' menyerang ' + lawan.name)\n",
    "        lawan.diserang(self, self.attack)\n",
    "\n",
    "    def diserang(self, lawan, attack_lawan):\n",
    "        print(self.name + ' diserang ' + lawan.name)\n",
    "        attack_diterima = attack_lawan/self.armor\n",
    "\n",
    "        print('serangan terasa: ' + str(attack_diterima))\n",
    "        self.darah -= attack_diterima\n",
    "\n",
    "        print('darah ' + self.name + ' tersisa: ' + str(self.darah))\n",
    "\n",
    "class RobotAI(Robot):\n",
    "    def __init__(self, name, darah, attack, armor):\n",
    "        super().__init__(name, darah, attack, armor)\n",
    "    \n",
    "    def showinfo(self):\n",
    "        print(\"\\n RobotAI {} dengan Darah: {}\".format(self.name, self.darah))\n",
    "\n",
    "\n",
    "        "
   ]
  },
  {
   "cell_type": "code",
   "execution_count": 33,
   "metadata": {},
   "outputs": [
    {
     "name": "stdout",
     "output_type": "stream",
     "text": [
      "midas menyerang zeus\n",
      "zeus diserang midas\n",
      "serangan terasa: 90.0\n",
      "darah zeus tersisa: 110.0\n",
      "\n",
      " RobotAI midas dengan Darah: 300\n"
     ]
    }
   ],
   "source": [
    "atom = RealSteel('atom', 100, 50, 20)\n",
    "zeus = RealSteel('zeus', 200, 100, 5)\n",
    "\n",
    "midas = RobotAI('midas', 300, 450, 50)\n",
    "\n",
    "midas.menyerang(zeus)\n",
    "#midas.healing()\n",
    "midas.showinfo()"
   ]
  },
  {
   "cell_type": "code",
   "execution_count": 29,
   "metadata": {},
   "outputs": [],
   "source": [
    "class Animal:\n",
    "    def __init__(self, name, speed, food, habitat):\n",
    "        self.name = name\n",
    "        self.speed = speed\n",
    "        self.food = food\n",
    "        self.habitat = habitat\n",
    "    \n",
    "    def showinfo(self):\n",
    "        print(\"\\n{}  Memiliki Kecepatan {}, Memakan {}, Habitat di {}\".format(self.name, self.speed, self.food, self.habitat))\n",
    "\n",
    "\n",
    "class Herbivora(Animal):\n",
    "    def __init__(self, name, speed, food, habitat):\n",
    "        super().__init__(name, speed, food, habitat)\n",
    "\n",
    "class Carnivora(Animal):\n",
    "    def __init__(self, name, speed, food, habitat):\n",
    "        super().__init__(name, speed, food, habitat)\n",
    "   \n",
    "class Omnivora(Animal):\n",
    "    def __init__(self, name, speed, food, habitat):\n",
    "        super().__init__(name, speed, food, habitat)\n",
    "     \n",
    "    \n",
    "\n"
   ]
  },
  {
   "cell_type": "code",
   "execution_count": 31,
   "metadata": {},
   "outputs": [
    {
     "name": "stdout",
     "output_type": "stream",
     "text": [
      "\n",
      "kelinci  Memiliki Kecepatan lambat, Memakan rumput, Habitat di Lapangan\n"
     ]
    }
   ],
   "source": [
    "Kelinci = Herbivora(\"kelinci\", \"lambat\", \"rumput\", \"Lapangan\")\n",
    "Kelinci.showinfo()"
   ]
  },
  {
   "cell_type": "code",
   "execution_count": null,
   "metadata": {},
   "outputs": [],
   "source": []
  }
 ],
 "metadata": {
  "interpreter": {
   "hash": "a857339980801c901ae8a6d64bc395e674f8e4957c5e91c35349ecff8dec27b4"
  },
  "kernelspec": {
   "display_name": "Python 3.8.5 ('base')",
   "language": "python",
   "name": "python3"
  },
  "language_info": {
   "codemirror_mode": {
    "name": "ipython",
    "version": 3
   },
   "file_extension": ".py",
   "mimetype": "text/x-python",
   "name": "python",
   "nbconvert_exporter": "python",
   "pygments_lexer": "ipython3",
   "version": "3.8.5"
  },
  "orig_nbformat": 4
 },
 "nbformat": 4,
 "nbformat_minor": 2
}
