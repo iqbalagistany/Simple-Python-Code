{
  "nbformat": 4,
  "nbformat_minor": 0,
  "metadata": {
    "colab": {
      "name": "Kuis 3 (Mencari Error)",
      "provenance": []
    },
    "kernelspec": {
      "name": "python3",
      "display_name": "Python 3"
    },
    "language_info": {
      "name": "python"
    }
  },
  "cells": [
    {
      "cell_type": "code",
      "execution_count": 3,
      "metadata": {
        "colab": {
          "base_uri": "https://localhost:8080/"
        },
        "id": "-yMPF9leqUM8",
        "outputId": "7713a350-e5e1-4131-bf9e-748c0c499387"
      },
      "outputs": [
        {
          "output_type": "stream",
          "name": "stdout",
          "text": [
            "Hello!\n",
            "Enter something: a\n",
            "I don't know what, a means.\n"
          ]
        }
      ],
      "source": [
        "print(\"Hello!\")\n",
        "something = input(\"Enter something: \")\n",
        "\n",
        "# error operator di gambar hanya ada satu \"=\"\n",
        "if something == 'hello':\n",
        "  print(\"Hello for you too!\")\n",
        "\n",
        "# error di gambar hanya ada satu \"=\" dan tidak ada titik dua \":\"\n",
        "elif something == 'hi':\n",
        "  print(\"Hi there!\")\n",
        "\n",
        "#error di gambar tidak ada penghubung antara string dan variabel something\n",
        "else:\n",
        "  print(\"I don't know what, \" + str(something) + \" means.\")\n"
      ]
    },
    {
      "cell_type": "code",
      "source": [
        ""
      ],
      "metadata": {
        "id": "1aVrSWtEqbGy"
      },
      "execution_count": null,
      "outputs": []
    }
  ]
}