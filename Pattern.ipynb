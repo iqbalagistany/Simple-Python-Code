{
  "nbformat": 4,
  "nbformat_minor": 0,
  "metadata": {
    "colab": {
      "name": "Kuis 5 (Pattern *)",
      "provenance": []
    },
    "kernelspec": {
      "name": "python3",
      "display_name": "Python 3"
    },
    "language_info": {
      "name": "python"
    }
  },
  "cells": [
    {
      "cell_type": "code",
      "execution_count": 13,
      "metadata": {
        "colab": {
          "base_uri": "https://localhost:8080/"
        },
        "id": "IoETd7tTsteH",
        "outputId": "ceb4c2ca-b9c3-4e44-c6dd-2763987cc6d1"
      },
      "outputs": [
        {
          "output_type": "stream",
          "name": "stdout",
          "text": [
            "Masukkan banyak Kolom: 5\n",
            "*\n",
            "\n",
            "**\n",
            "\n",
            "***\n",
            "\n",
            "****\n",
            "\n",
            "*****\n",
            "\n",
            "****\n",
            "\n",
            "***\n",
            "\n",
            "**\n",
            "\n",
            "*\n",
            "\n",
            "\n",
            "\n"
          ]
        }
      ],
      "source": [
        "n = int(input(\"Masukkan banyak Kolom: \"))\n",
        "\n",
        "for i in range (n):\n",
        "  for j in range(i+1):\n",
        "    print(\"*\", end=\"\")\n",
        "  print(\"\\n\")\n",
        "\n",
        "for n in range (n, 0, -1):\n",
        "  for j in range(n-1):\n",
        "    print(\"*\", end=\"\")\n",
        "  print(\"\\n\")\n",
        "  "
      ]
    },
    {
      "cell_type": "code",
      "source": [
        ""
      ],
      "metadata": {
        "id": "LUq3VdfrxrEN"
      },
      "execution_count": null,
      "outputs": []
    }
  ]
}