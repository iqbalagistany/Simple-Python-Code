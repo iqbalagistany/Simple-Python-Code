{
 "cells": [
  {
   "cell_type": "code",
   "execution_count": 1,
   "metadata": {
    "ExecuteTime": {
     "end_time": "2020-12-23T00:50:45.831444Z",
     "start_time": "2020-12-23T00:50:43.030179Z"
    }
   },
   "outputs": [],
   "source": [
    "# Imports\n",
    "import pandas as pd\n",
    "import seaborn as sns\n",
    "import matplotlib.pyplot as plt\n",
    "import numpy as np\n",
    "from scipy.stats import f, norm\n",
    "import matplotlib.pyplot as plt"
   ]
  },
  {
   "cell_type": "code",
   "execution_count": 2,
   "metadata": {
    "ExecuteTime": {
     "end_time": "2020-12-23T00:50:46.798682Z",
     "start_time": "2020-12-23T00:50:45.912815Z"
    }
   },
   "outputs": [],
   "source": [
    "larger_df = pd.read_csv('winemag-data_first150k.csv')"
   ]
  },
  {
   "cell_type": "code",
   "execution_count": 22,
   "metadata": {
    "ExecuteTime": {
     "end_time": "2020-12-23T00:50:47.019807Z",
     "start_time": "2020-12-23T00:50:46.946326Z"
    }
   },
   "outputs": [
    {
     "data": {
      "text/html": [
       "<div>\n",
       "<style scoped>\n",
       "    .dataframe tbody tr th:only-of-type {\n",
       "        vertical-align: middle;\n",
       "    }\n",
       "\n",
       "    .dataframe tbody tr th {\n",
       "        vertical-align: top;\n",
       "    }\n",
       "\n",
       "    .dataframe thead th {\n",
       "        text-align: right;\n",
       "    }\n",
       "</style>\n",
       "<table border=\"1\" class=\"dataframe\">\n",
       "  <thead>\n",
       "    <tr style=\"text-align: right;\">\n",
       "      <th></th>\n",
       "      <th>Unnamed: 0</th>\n",
       "      <th>country</th>\n",
       "      <th>description</th>\n",
       "      <th>designation</th>\n",
       "      <th>points</th>\n",
       "      <th>price</th>\n",
       "      <th>province</th>\n",
       "      <th>region_1</th>\n",
       "      <th>region_2</th>\n",
       "      <th>variety</th>\n",
       "      <th>winery</th>\n",
       "    </tr>\n",
       "  </thead>\n",
       "  <tbody>\n",
       "    <tr>\n",
       "      <th>150909</th>\n",
       "      <td>150909</td>\n",
       "      <td>France</td>\n",
       "      <td>This is a lovely, fragrant Burgundy, with a sm...</td>\n",
       "      <td>Clos dea Argillieres</td>\n",
       "      <td>89</td>\n",
       "      <td>52.0</td>\n",
       "      <td>Burgundy</td>\n",
       "      <td>Nuits-St.-Georges</td>\n",
       "      <td>NaN</td>\n",
       "      <td>Pinot Noir</td>\n",
       "      <td>Daniel Rion</td>\n",
       "    </tr>\n",
       "    <tr>\n",
       "      <th>150910</th>\n",
       "      <td>150910</td>\n",
       "      <td>France</td>\n",
       "      <td>Scents of graham cracker and malted milk choco...</td>\n",
       "      <td>NaN</td>\n",
       "      <td>89</td>\n",
       "      <td>38.0</td>\n",
       "      <td>Burgundy</td>\n",
       "      <td>Chambolle-Musigny</td>\n",
       "      <td>NaN</td>\n",
       "      <td>Pinot Noir</td>\n",
       "      <td>Michel Gros</td>\n",
       "    </tr>\n",
       "    <tr>\n",
       "      <th>150911</th>\n",
       "      <td>150911</td>\n",
       "      <td>France</td>\n",
       "      <td>This needs a good bit of breathing time, then ...</td>\n",
       "      <td>Les Chaliots</td>\n",
       "      <td>87</td>\n",
       "      <td>37.0</td>\n",
       "      <td>Burgundy</td>\n",
       "      <td>Nuits-St.-Georges</td>\n",
       "      <td>NaN</td>\n",
       "      <td>Pinot Noir</td>\n",
       "      <td>Michel Gros</td>\n",
       "    </tr>\n",
       "    <tr>\n",
       "      <th>150912</th>\n",
       "      <td>150912</td>\n",
       "      <td>France</td>\n",
       "      <td>The nose is dominated by the attractive scents...</td>\n",
       "      <td>Les Charmes</td>\n",
       "      <td>87</td>\n",
       "      <td>65.0</td>\n",
       "      <td>Burgundy</td>\n",
       "      <td>Chambolle-Musigny</td>\n",
       "      <td>NaN</td>\n",
       "      <td>Pinot Noir</td>\n",
       "      <td>Daniel Rion</td>\n",
       "    </tr>\n",
       "    <tr>\n",
       "      <th>150913</th>\n",
       "      <td>150913</td>\n",
       "      <td>France</td>\n",
       "      <td>Inky and rustic, yet in a refined manner. This...</td>\n",
       "      <td>NaN</td>\n",
       "      <td>94</td>\n",
       "      <td>30.0</td>\n",
       "      <td>Rhône Valley</td>\n",
       "      <td>Châteauneuf-du-Pape</td>\n",
       "      <td>NaN</td>\n",
       "      <td>Rhône-style Red Blend</td>\n",
       "      <td>Le Vieux Donjon</td>\n",
       "    </tr>\n",
       "    <tr>\n",
       "      <th>150914</th>\n",
       "      <td>150914</td>\n",
       "      <td>US</td>\n",
       "      <td>Old-gold in color, and thick and syrupy. The a...</td>\n",
       "      <td>Late Harvest Cluster Select</td>\n",
       "      <td>94</td>\n",
       "      <td>25.0</td>\n",
       "      <td>California</td>\n",
       "      <td>Anderson Valley</td>\n",
       "      <td>Mendocino/Lake Counties</td>\n",
       "      <td>White Riesling</td>\n",
       "      <td>Navarro</td>\n",
       "    </tr>\n",
       "    <tr>\n",
       "      <th>150915</th>\n",
       "      <td>150915</td>\n",
       "      <td>US</td>\n",
       "      <td>Decades ago, Beringer’s then-winemaker Myron N...</td>\n",
       "      <td>Nightingale</td>\n",
       "      <td>93</td>\n",
       "      <td>30.0</td>\n",
       "      <td>California</td>\n",
       "      <td>North Coast</td>\n",
       "      <td>North Coast</td>\n",
       "      <td>White Blend</td>\n",
       "      <td>Beringer</td>\n",
       "    </tr>\n",
       "    <tr>\n",
       "      <th>150916</th>\n",
       "      <td>150916</td>\n",
       "      <td>US</td>\n",
       "      <td>An impressive wine that presents a full bouque...</td>\n",
       "      <td>J. Schram</td>\n",
       "      <td>93</td>\n",
       "      <td>65.0</td>\n",
       "      <td>California</td>\n",
       "      <td>Napa Valley</td>\n",
       "      <td>Napa</td>\n",
       "      <td>Champagne Blend</td>\n",
       "      <td>Schramsberg</td>\n",
       "    </tr>\n",
       "    <tr>\n",
       "      <th>150917</th>\n",
       "      <td>150917</td>\n",
       "      <td>France</td>\n",
       "      <td>Light and elegant, this spicy, lively wine is ...</td>\n",
       "      <td>Brut Mosaïque</td>\n",
       "      <td>92</td>\n",
       "      <td>30.0</td>\n",
       "      <td>Champagne</td>\n",
       "      <td>Champagne</td>\n",
       "      <td>NaN</td>\n",
       "      <td>Champagne Blend</td>\n",
       "      <td>Jacquart</td>\n",
       "    </tr>\n",
       "    <tr>\n",
       "      <th>150918</th>\n",
       "      <td>150918</td>\n",
       "      <td>France</td>\n",
       "      <td>Jacquart makes a full-bodied, ripe style of Ch...</td>\n",
       "      <td>Cuvée Mosaïque</td>\n",
       "      <td>92</td>\n",
       "      <td>38.0</td>\n",
       "      <td>Champagne</td>\n",
       "      <td>Champagne</td>\n",
       "      <td>NaN</td>\n",
       "      <td>Champagne Blend</td>\n",
       "      <td>Jacquart</td>\n",
       "    </tr>\n",
       "    <tr>\n",
       "      <th>150919</th>\n",
       "      <td>150919</td>\n",
       "      <td>France</td>\n",
       "      <td>This classy example opens with a very floral n...</td>\n",
       "      <td>Cuvée President</td>\n",
       "      <td>91</td>\n",
       "      <td>37.0</td>\n",
       "      <td>Champagne</td>\n",
       "      <td>Champagne</td>\n",
       "      <td>NaN</td>\n",
       "      <td>Champagne Blend</td>\n",
       "      <td>H.Germain</td>\n",
       "    </tr>\n",
       "    <tr>\n",
       "      <th>150920</th>\n",
       "      <td>150920</td>\n",
       "      <td>Italy</td>\n",
       "      <td>Rich and mature aromas of smoke, earth and her...</td>\n",
       "      <td>Brut Riserva</td>\n",
       "      <td>91</td>\n",
       "      <td>19.0</td>\n",
       "      <td>Northeastern Italy</td>\n",
       "      <td>Trento</td>\n",
       "      <td>NaN</td>\n",
       "      <td>Champagne Blend</td>\n",
       "      <td>Letrari</td>\n",
       "    </tr>\n",
       "    <tr>\n",
       "      <th>150921</th>\n",
       "      <td>150921</td>\n",
       "      <td>France</td>\n",
       "      <td>Shows some older notes: a bouquet of toasted w...</td>\n",
       "      <td>Blanc de Blancs Brut Mosaïque</td>\n",
       "      <td>91</td>\n",
       "      <td>38.0</td>\n",
       "      <td>Champagne</td>\n",
       "      <td>Champagne</td>\n",
       "      <td>NaN</td>\n",
       "      <td>Champagne Blend</td>\n",
       "      <td>Jacquart</td>\n",
       "    </tr>\n",
       "    <tr>\n",
       "      <th>150923</th>\n",
       "      <td>150923</td>\n",
       "      <td>France</td>\n",
       "      <td>Rich and toasty, with tiny bubbles. The bouque...</td>\n",
       "      <td>Demi-Sec</td>\n",
       "      <td>91</td>\n",
       "      <td>30.0</td>\n",
       "      <td>Champagne</td>\n",
       "      <td>Champagne</td>\n",
       "      <td>NaN</td>\n",
       "      <td>Champagne Blend</td>\n",
       "      <td>Jacquart</td>\n",
       "    </tr>\n",
       "    <tr>\n",
       "      <th>150924</th>\n",
       "      <td>150924</td>\n",
       "      <td>France</td>\n",
       "      <td>Really fine for a low-acid vintage, there's an...</td>\n",
       "      <td>Diamant Bleu</td>\n",
       "      <td>91</td>\n",
       "      <td>70.0</td>\n",
       "      <td>Champagne</td>\n",
       "      <td>Champagne</td>\n",
       "      <td>NaN</td>\n",
       "      <td>Champagne Blend</td>\n",
       "      <td>Heidsieck &amp; Co Monopole</td>\n",
       "    </tr>\n",
       "    <tr>\n",
       "      <th>150925</th>\n",
       "      <td>150925</td>\n",
       "      <td>Italy</td>\n",
       "      <td>Many people feel Fiano represents southern Ita...</td>\n",
       "      <td>NaN</td>\n",
       "      <td>91</td>\n",
       "      <td>20.0</td>\n",
       "      <td>Southern Italy</td>\n",
       "      <td>Fiano di Avellino</td>\n",
       "      <td>NaN</td>\n",
       "      <td>White Blend</td>\n",
       "      <td>Feudi di San Gregorio</td>\n",
       "    </tr>\n",
       "    <tr>\n",
       "      <th>150926</th>\n",
       "      <td>150926</td>\n",
       "      <td>France</td>\n",
       "      <td>Offers an intriguing nose with ginger, lime an...</td>\n",
       "      <td>Cuvée Prestige</td>\n",
       "      <td>91</td>\n",
       "      <td>27.0</td>\n",
       "      <td>Champagne</td>\n",
       "      <td>Champagne</td>\n",
       "      <td>NaN</td>\n",
       "      <td>Champagne Blend</td>\n",
       "      <td>H.Germain</td>\n",
       "    </tr>\n",
       "    <tr>\n",
       "      <th>150927</th>\n",
       "      <td>150927</td>\n",
       "      <td>Italy</td>\n",
       "      <td>This classic example comes from a cru vineyard...</td>\n",
       "      <td>Terre di Dora</td>\n",
       "      <td>91</td>\n",
       "      <td>20.0</td>\n",
       "      <td>Southern Italy</td>\n",
       "      <td>Fiano di Avellino</td>\n",
       "      <td>NaN</td>\n",
       "      <td>White Blend</td>\n",
       "      <td>Terredora</td>\n",
       "    </tr>\n",
       "    <tr>\n",
       "      <th>150928</th>\n",
       "      <td>150928</td>\n",
       "      <td>France</td>\n",
       "      <td>A perfect salmon shade, with scents of peaches...</td>\n",
       "      <td>Grand Brut Rosé</td>\n",
       "      <td>90</td>\n",
       "      <td>52.0</td>\n",
       "      <td>Champagne</td>\n",
       "      <td>Champagne</td>\n",
       "      <td>NaN</td>\n",
       "      <td>Champagne Blend</td>\n",
       "      <td>Gosset</td>\n",
       "    </tr>\n",
       "    <tr>\n",
       "      <th>150929</th>\n",
       "      <td>150929</td>\n",
       "      <td>Italy</td>\n",
       "      <td>More Pinot Grigios should taste like this. A r...</td>\n",
       "      <td>NaN</td>\n",
       "      <td>90</td>\n",
       "      <td>15.0</td>\n",
       "      <td>Northeastern Italy</td>\n",
       "      <td>Alto Adige</td>\n",
       "      <td>NaN</td>\n",
       "      <td>Pinot Grigio</td>\n",
       "      <td>Alois Lageder</td>\n",
       "    </tr>\n",
       "  </tbody>\n",
       "</table>\n",
       "</div>"
      ],
      "text/plain": [
       "        Unnamed: 0 country                                        description  \\\n",
       "150909      150909  France  This is a lovely, fragrant Burgundy, with a sm...   \n",
       "150910      150910  France  Scents of graham cracker and malted milk choco...   \n",
       "150911      150911  France  This needs a good bit of breathing time, then ...   \n",
       "150912      150912  France  The nose is dominated by the attractive scents...   \n",
       "150913      150913  France  Inky and rustic, yet in a refined manner. This...   \n",
       "150914      150914      US  Old-gold in color, and thick and syrupy. The a...   \n",
       "150915      150915      US  Decades ago, Beringer’s then-winemaker Myron N...   \n",
       "150916      150916      US  An impressive wine that presents a full bouque...   \n",
       "150917      150917  France  Light and elegant, this spicy, lively wine is ...   \n",
       "150918      150918  France  Jacquart makes a full-bodied, ripe style of Ch...   \n",
       "150919      150919  France  This classy example opens with a very floral n...   \n",
       "150920      150920   Italy  Rich and mature aromas of smoke, earth and her...   \n",
       "150921      150921  France  Shows some older notes: a bouquet of toasted w...   \n",
       "150923      150923  France  Rich and toasty, with tiny bubbles. The bouque...   \n",
       "150924      150924  France  Really fine for a low-acid vintage, there's an...   \n",
       "150925      150925   Italy  Many people feel Fiano represents southern Ita...   \n",
       "150926      150926  France  Offers an intriguing nose with ginger, lime an...   \n",
       "150927      150927   Italy  This classic example comes from a cru vineyard...   \n",
       "150928      150928  France  A perfect salmon shade, with scents of peaches...   \n",
       "150929      150929   Italy  More Pinot Grigios should taste like this. A r...   \n",
       "\n",
       "                          designation  points  price            province  \\\n",
       "150909           Clos dea Argillieres      89   52.0            Burgundy   \n",
       "150910                            NaN      89   38.0            Burgundy   \n",
       "150911                   Les Chaliots      87   37.0            Burgundy   \n",
       "150912                    Les Charmes      87   65.0            Burgundy   \n",
       "150913                            NaN      94   30.0        Rhône Valley   \n",
       "150914    Late Harvest Cluster Select      94   25.0          California   \n",
       "150915                    Nightingale      93   30.0          California   \n",
       "150916                      J. Schram      93   65.0          California   \n",
       "150917                  Brut Mosaïque      92   30.0           Champagne   \n",
       "150918                 Cuvée Mosaïque      92   38.0           Champagne   \n",
       "150919                Cuvée President      91   37.0           Champagne   \n",
       "150920                   Brut Riserva      91   19.0  Northeastern Italy   \n",
       "150921  Blanc de Blancs Brut Mosaïque      91   38.0           Champagne   \n",
       "150923                       Demi-Sec      91   30.0           Champagne   \n",
       "150924                   Diamant Bleu      91   70.0           Champagne   \n",
       "150925                            NaN      91   20.0      Southern Italy   \n",
       "150926                 Cuvée Prestige      91   27.0           Champagne   \n",
       "150927                  Terre di Dora      91   20.0      Southern Italy   \n",
       "150928                Grand Brut Rosé      90   52.0           Champagne   \n",
       "150929                            NaN      90   15.0  Northeastern Italy   \n",
       "\n",
       "                   region_1                 region_2                variety  \\\n",
       "150909    Nuits-St.-Georges                      NaN             Pinot Noir   \n",
       "150910    Chambolle-Musigny                      NaN             Pinot Noir   \n",
       "150911    Nuits-St.-Georges                      NaN             Pinot Noir   \n",
       "150912    Chambolle-Musigny                      NaN             Pinot Noir   \n",
       "150913  Châteauneuf-du-Pape                      NaN  Rhône-style Red Blend   \n",
       "150914      Anderson Valley  Mendocino/Lake Counties         White Riesling   \n",
       "150915          North Coast              North Coast            White Blend   \n",
       "150916          Napa Valley                     Napa        Champagne Blend   \n",
       "150917            Champagne                      NaN        Champagne Blend   \n",
       "150918            Champagne                      NaN        Champagne Blend   \n",
       "150919            Champagne                      NaN        Champagne Blend   \n",
       "150920               Trento                      NaN        Champagne Blend   \n",
       "150921            Champagne                      NaN        Champagne Blend   \n",
       "150923            Champagne                      NaN        Champagne Blend   \n",
       "150924            Champagne                      NaN        Champagne Blend   \n",
       "150925    Fiano di Avellino                      NaN            White Blend   \n",
       "150926            Champagne                      NaN        Champagne Blend   \n",
       "150927    Fiano di Avellino                      NaN            White Blend   \n",
       "150928            Champagne                      NaN        Champagne Blend   \n",
       "150929           Alto Adige                      NaN           Pinot Grigio   \n",
       "\n",
       "                         winery  \n",
       "150909              Daniel Rion  \n",
       "150910              Michel Gros  \n",
       "150911              Michel Gros  \n",
       "150912              Daniel Rion  \n",
       "150913          Le Vieux Donjon  \n",
       "150914                  Navarro  \n",
       "150915                 Beringer  \n",
       "150916              Schramsberg  \n",
       "150917                 Jacquart  \n",
       "150918                 Jacquart  \n",
       "150919                H.Germain  \n",
       "150920                  Letrari  \n",
       "150921                 Jacquart  \n",
       "150923                 Jacquart  \n",
       "150924  Heidsieck & Co Monopole  \n",
       "150925    Feudi di San Gregorio  \n",
       "150926                H.Germain  \n",
       "150927                Terredora  \n",
       "150928                   Gosset  \n",
       "150929            Alois Lageder  "
      ]
     },
     "execution_count": 22,
     "metadata": {},
     "output_type": "execute_result"
    }
   ],
   "source": [
    "larger_df.tail(20)"
   ]
  },
  {
   "cell_type": "markdown",
   "metadata": {},
   "source": [
    "# ANOVA MANUAL"
   ]
  },
  {
   "cell_type": "code",
   "execution_count": 4,
   "metadata": {
    "ExecuteTime": {
     "end_time": "2020-12-23T00:50:47.338245Z",
     "start_time": "2020-12-23T00:50:47.242455Z"
    }
   },
   "outputs": [
    {
     "name": "stdout",
     "output_type": "stream",
     "text": [
      "~~~~~~~~~~~Row before dropping NAs: 150930~~~~~~~~~~~\n",
      "~~~~~~~~~~~Row after dropping NAs: 137235~~~~~~~~~~~\n"
     ]
    }
   ],
   "source": [
    "print('~~~~~~~~~~~Row before dropping NAs: {}~~~~~~~~~~~'.format(len(larger_df)))\n",
    "larger_df.dropna(subset=['price'], inplace=True)\n",
    "print('~~~~~~~~~~~Row after dropping NAs: {}~~~~~~~~~~~'.format(len(larger_df)))\n"
   ]
  },
  {
   "cell_type": "code",
   "execution_count": 23,
   "metadata": {
    "ExecuteTime": {
     "end_time": "2020-12-23T00:50:47.709333Z",
     "start_time": "2020-12-23T00:50:47.561776Z"
    }
   },
   "outputs": [
    {
     "data": {
      "text/plain": [
       "Italy     1000\n",
       "France    1000\n",
       "US        1000\n",
       "Name: country, dtype: int64"
      ]
     },
     "execution_count": 23,
     "metadata": {},
     "output_type": "execute_result"
    }
   ],
   "source": [
    "# Collect Data \n",
    "samples = 1000\n",
    "max_price = 200\n",
    "seed = 42\n",
    "\n",
    "# Pull Italy\n",
    "italy = larger_df[(larger_df.country=='Italy') & (larger_df.price<max_price)].sample(samples, random_state=seed)\n",
    "\n",
    "# Pull US\n",
    "united_states = larger_df[(larger_df.country=='US') & (larger_df.price<max_price)].sample(samples, random_state=seed)\n",
    "\n",
    "# Pull France \n",
    "france = larger_df[(larger_df.country=='France') & (larger_df.price<max_price)].sample(samples, random_state=seed)\n",
    "\n",
    "\n",
    "data_list = [italy, united_states, france]\n",
    "wine_df = pd.concat(data_list)\n",
    "\n",
    "wine_df.country.value_counts()\n"
   ]
  },
  {
   "cell_type": "code",
   "execution_count": 24,
   "metadata": {
    "ExecuteTime": {
     "end_time": "2020-12-23T00:50:49.403765Z",
     "start_time": "2020-12-23T00:50:48.888113Z"
    }
   },
   "outputs": [
    {
     "name": "stderr",
     "output_type": "stream",
     "text": [
      "C:\\Users\\iqbal agistany\\anaconda3\\lib\\site-packages\\seaborn\\distributions.py:2551: FutureWarning: `distplot` is a deprecated function and will be removed in a future version. Please adapt your code to use either `displot` (a figure-level function with similar flexibility) or `histplot` (an axes-level function for histograms).\n",
      "  warnings.warn(msg, FutureWarning)\n",
      "C:\\Users\\iqbal agistany\\anaconda3\\lib\\site-packages\\seaborn\\distributions.py:2551: FutureWarning: `distplot` is a deprecated function and will be removed in a future version. Please adapt your code to use either `displot` (a figure-level function with similar flexibility) or `histplot` (an axes-level function for histograms).\n",
      "  warnings.warn(msg, FutureWarning)\n",
      "C:\\Users\\iqbal agistany\\anaconda3\\lib\\site-packages\\seaborn\\distributions.py:2551: FutureWarning: `distplot` is a deprecated function and will be removed in a future version. Please adapt your code to use either `displot` (a figure-level function with similar flexibility) or `histplot` (an axes-level function for histograms).\n",
      "  warnings.warn(msg, FutureWarning)\n"
     ]
    },
    {
     "data": {
      "image/png": "[encoded data removed]",
      "text/plain": [
       "<Figure size 792x432 with 1 Axes>"
      ]
     },
     "metadata": {},
     "output_type": "display_data"
    }
   ],
   "source": [
    "# Plot Price Distributions \n",
    "sns.set_style(\"white\")\n",
    "plt.figure(figsize=(11, 6))\n",
    "\n",
    "for name in ['US', 'Italy', 'France']:\n",
    "    sns.distplot(wine_df[wine_df.country==name].price, kde_kws=dict(linewidth=3))\n",
    "    \n",
    "plt.legend(['US', 'Italy', 'France'], fontsize=13)\n",
    "plt.xlabel('Price', fontsize=15)\n",
    "plt.xticks(fontsize=12)\n",
    "plt.yticks(fontsize=12)\n",
    "\n",
    "plt.savefig('distributions.png')\n",
    "\n",
    "plt.show()"
   ]
  },
  {
   "cell_type": "code",
   "execution_count": 9,
   "metadata": {
    "ExecuteTime": {
     "end_time": "2020-12-23T00:50:50.001727Z",
     "start_time": "2020-12-23T00:50:49.966580Z"
    }
   },
   "outputs": [
    {
     "data": {
      "text/plain": [
       "country\n",
       "France    37.242\n",
       "Italy     35.286\n",
       "US        33.776\n",
       "Name: price, dtype: float64"
      ]
     },
     "execution_count": 9,
     "metadata": {},
     "output_type": "execute_result"
    }
   ],
   "source": [
    "wine_df.groupby('country').mean()['price']"
   ]
  },
  {
   "cell_type": "code",
   "execution_count": 10,
   "metadata": {
    "ExecuteTime": {
     "end_time": "2020-12-23T00:50:50.550373Z",
     "start_time": "2020-12-23T00:50:50.499194Z"
    }
   },
   "outputs": [],
   "source": [
    "# Calculate Means \n",
    "mean_france = wine_df[wine_df.country == 'France']['price'].mean()\n",
    "mean_italy = wine_df[wine_df.country == 'Italy']['price'].mean()\n",
    "mean_us = wine_df[wine_df.country == 'US']['price'].mean()\n",
    "mean_overall = wine_df['price'].mean()\n",
    "\n",
    "# Calculate Variances \n",
    "var_france = wine_df[wine_df.country == 'France']['price'].var()\n",
    "var_italy = wine_df[wine_df.country == 'Italy']['price'].var()\n",
    "var_us = wine_df[wine_df.country == 'US']['price'].var()\n"
   ]
  },
  {
   "cell_type": "code",
   "execution_count": 11,
   "metadata": {
    "ExecuteTime": {
     "end_time": "2020-12-23T00:50:51.063757Z",
     "start_time": "2020-12-23T00:50:51.004552Z"
    }
   },
   "outputs": [
    {
     "name": "stdout",
     "output_type": "stream",
     "text": [
      "Sum of Squares Between: 6039.73\n",
      "Sum of Squares Within: 2226089.55\n",
      "Degrees of Freedom for SSB: 2\n",
      "Degrees of Freedom for SSW: 2997\n",
      "F-Statistic: 4.06567\n"
     ]
    }
   ],
   "source": [
    "# Sum of Squares Between\n",
    "SSB = 1000*(mean_overall - mean_france)**2 + \\\n",
    "      1000*(mean_overall - mean_italy)**2 + \\\n",
    "      1000*(mean_overall - mean_us)**2 \n",
    "\n",
    "print('Sum of Squares Between: {0:.6g}'.format(SSB))\n",
    "\n",
    "\n",
    "# Sum of Squares Within \n",
    "SSW = 1000*var_france + \\\n",
    "      1000*var_italy + \\\n",
    "      1000*var_us\n",
    "\n",
    "print('Sum of Squares Within: {0:.9g}'.format(SSW))\n",
    "\n",
    "\n",
    "# Degrees of Freedom \n",
    "dof_SSB = 2\n",
    "dof_SSW = 3000-3\n",
    "\n",
    "print('Degrees of Freedom for SSB: {}'.format(dof_SSB))\n",
    "print('Degrees of Freedom for SSW: {}'.format(dof_SSW))\n",
    "\n",
    "\n",
    "# F Stastics \n",
    "f_stat = (SSB/dof_SSB) / (SSW/dof_SSW)\n",
    "\n",
    "print('F-Statistic: {0:.6g}'.format(f_stat))\n",
    "\n"
   ]
  },
  {
   "cell_type": "code",
   "execution_count": 12,
   "metadata": {
    "ExecuteTime": {
     "end_time": "2020-12-23T00:50:51.764268Z",
     "start_time": "2020-12-23T00:50:51.565049Z"
    }
   },
   "outputs": [
    {
     "data": {
      "image/png": "[encoded data removed]",
      "text/plain": [
       "<Figure size 720x360 with 1 Axes>"
      ]
     },
     "metadata": {},
     "output_type": "display_data"
    }
   ],
   "source": [
    "# F Distribution \n",
    "plt.figure(figsize=(10, 5))\n",
    "plt.xlim(0,12)\n",
    "plt.ylim(-.005,1.2)\n",
    "\n",
    "# Plot\n",
    "dist = f(dfn=dof_SSB, dfd=dof_SSW, loc=0, scale=1)\n",
    "x = np.linspace(dist.ppf(0.000001), dist.ppf(0.99999999), 1000)\n",
    "y = dist.pdf(x) \n",
    "\n",
    "# Plot Figure\n",
    "plt.plot(x,y, '-', color='black', linewidth=2)\n",
    "plt.vlines(f_stat, color='red', ymin=-1, ymax=1.2, linestyle='--')\n",
    "plt.text(x=f_stat+.5, y=1, s='F-Stat: {:.2f}'.format(f_stat), fontsize='x-large', color='red')\n",
    "\n",
    "plt.savefig('f_distribution.png')\n",
    "\n",
    "plt.show()"
   ]
  },
  {
   "cell_type": "markdown",
   "metadata": {
    "collapsed": true
   },
   "source": [
    "# ANOVA OTOMATIS"
   ]
  },
  {
   "cell_type": "code",
   "execution_count": 16,
   "metadata": {},
   "outputs": [],
   "source": [
    "import statsmodels.api as sm\n",
    "from statsmodels.formula.api import ols"
   ]
  },
  {
   "cell_type": "code",
   "execution_count": 17,
   "metadata": {},
   "outputs": [
    {
     "data": {
      "text/html": [
       "<div>\n",
       "<style scoped>\n",
       "    .dataframe tbody tr th:only-of-type {\n",
       "        vertical-align: middle;\n",
       "    }\n",
       "\n",
       "    .dataframe tbody tr th {\n",
       "        vertical-align: top;\n",
       "    }\n",
       "\n",
       "    .dataframe thead th {\n",
       "        text-align: right;\n",
       "    }\n",
       "</style>\n",
       "<table border=\"1\" class=\"dataframe\">\n",
       "  <thead>\n",
       "    <tr style=\"text-align: right;\">\n",
       "      <th></th>\n",
       "      <th>sum_sq</th>\n",
       "      <th>df</th>\n",
       "      <th>F</th>\n",
       "      <th>PR(&gt;F)</th>\n",
       "    </tr>\n",
       "  </thead>\n",
       "  <tbody>\n",
       "    <tr>\n",
       "      <th>country</th>\n",
       "      <td>6.039731e+03</td>\n",
       "      <td>2.0</td>\n",
       "      <td>4.069736</td>\n",
       "      <td>0.017176</td>\n",
       "    </tr>\n",
       "    <tr>\n",
       "      <th>Residual</th>\n",
       "      <td>2.223863e+06</td>\n",
       "      <td>2997.0</td>\n",
       "      <td>NaN</td>\n",
       "      <td>NaN</td>\n",
       "    </tr>\n",
       "  </tbody>\n",
       "</table>\n",
       "</div>"
      ],
      "text/plain": [
       "                sum_sq      df         F    PR(>F)\n",
       "country   6.039731e+03     2.0  4.069736  0.017176\n",
       "Residual  2.223863e+06  2997.0       NaN       NaN"
      ]
     },
     "execution_count": 17,
     "metadata": {},
     "output_type": "execute_result"
    }
   ],
   "source": [
    "# ANOVA Test \n",
    "model = ols('price ~ country', data=wine_df).fit()\n",
    "anova = sm.stats.anova_lm(model, typ=2)\n",
    "\n",
    "anova"
   ]
  }
 ],
 "metadata": {
  "kernelspec": {
   "display_name": "Python 3",
   "language": "python",
   "name": "python3"
  },
  "language_info": {
   "codemirror_mode": {
    "name": "ipython",
    "version": 3
   },
   "file_extension": ".py",
   "mimetype": "text/x-python",
   "name": "python",
   "nbconvert_exporter": "python",
   "pygments_lexer": "ipython3",
   "version": "3.8.5"
  },
  "varInspector": {
   "cols": {
    "lenName": 16,
    "lenType": 16,
    "lenVar": 40
   },
   "kernels_config": {
    "python": {
     "delete_cmd_postfix": "",
     "delete_cmd_prefix": "del ",
     "library": "var_list.py",
     "varRefreshCmd": "print(var_dic_list())"
    },
    "r": {
     "delete_cmd_postfix": ") ",
     "delete_cmd_prefix": "rm(",
     "library": "var_list.r",
     "varRefreshCmd": "cat(var_dic_list()) "
    }
   },
   "types_to_exclude": [
    "module",
    "function",
    "builtin_function_or_method",
    "instance",
    "_Feature"
   ],
   "window_display": false
  }
 },
 "nbformat": 4,
 "nbformat_minor": 2
}
